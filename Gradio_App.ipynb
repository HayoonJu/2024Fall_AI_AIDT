{
  "nbformat": 4,
  "nbformat_minor": 0,
  "metadata": {
    "colab": {
      "provenance": [],
      "gpuType": "T4",
      "authorship_tag": "ABX9TyPH5pdgSh94H2w1J332JbWL",
      "include_colab_link": true
    },
    "kernelspec": {
      "name": "python3",
      "display_name": "Python 3"
    },
    "language_info": {
      "name": "python"
    },
    "accelerator": "GPU"
  },
  "cells": [
    {
      "cell_type": "markdown",
      "metadata": {
        "id": "view-in-github",
        "colab_type": "text"
      },
      "source": [
        "<a href=\"https://colab.research.google.com/github/junkyuhufs/2024Fall_AI_AIDT/blob/main/Gradio_App.ipynb\" target=\"_parent\"><img src=\"https://colab.research.google.com/assets/colab-badge.svg\" alt=\"Open In Colab\"/></a>"
      ]
    },
    {
      "cell_type": "markdown",
      "source": [
        "# Python to app: Gradio\n",
        "##[Gradio webpage](https://www.gradio.app/)"
      ],
      "metadata": {
        "id": "rRhNTjEgE6RU"
      }
    },
    {
      "cell_type": "markdown",
      "source": [
        "##1.  간단한 더하기 계산기 app"
      ],
      "metadata": {
        "id": "kOYjGtGuFAqp"
      }
    },
    {
      "cell_type": "code",
      "source": [
        "def sum(a, b):\n",
        "\n",
        "  c = int(a + b)\n",
        "  c = '정답은 ' + str(c) + '입니다'\n",
        "  return c"
      ],
      "metadata": {
        "id": "yiE0veE7FI6n"
      },
      "execution_count": null,
      "outputs": []
    },
    {
      "cell_type": "code",
      "source": [
        "sum(2,3)"
      ],
      "metadata": {
        "id": "QSFJnRemFS-P"
      },
      "execution_count": null,
      "outputs": []
    },
    {
      "cell_type": "code",
      "source": [
        "!pip install gradio"
      ],
      "metadata": {
        "id": "q2570kgRFW7d"
      },
      "execution_count": null,
      "outputs": []
    },
    {
      "cell_type": "code",
      "source": [
        "import gradio as gr"
      ],
      "metadata": {
        "id": "bgjbs1LyFakY"
      },
      "execution_count": null,
      "outputs": []
    },
    {
      "cell_type": "code",
      "source": [
        "iface = gr.Interface(sum, inputs = [\"number\", \"number\"], outputs = [\"text\"])\n",
        "iface.launch()"
      ],
      "metadata": {
        "id": "6RpePuUMFiqD"
      },
      "execution_count": null,
      "outputs": []
    },
    {
      "cell_type": "markdown",
      "source": [
        "## 2. Wordcloud app"
      ],
      "metadata": {
        "id": "3tfX6iDSEyMB"
      }
    },
    {
      "cell_type": "code",
      "source": [
        "# Step 1: Install required libraries in Colab\n",
        "!pip install gradio wordcloud matplotlib\n",
        "\n",
        "# Step 2: Import the necessary libraries\n",
        "import gradio as gr\n",
        "from wordcloud import WordCloud\n",
        "import matplotlib.pyplot as plt\n",
        "import re\n",
        "import numpy as np\n",
        "from io import BytesIO\n",
        "from PIL import Image\n",
        "\n",
        "# Step 3: Define a function to create the word cloud\n",
        "def generate_wordcloud(text):\n",
        "    # Basic text cleaning: remove special characters and limit text size\n",
        "    text = re.sub(r'[^a-zA-Z\\s]', '', text)  # Remove special characters\n",
        "    if len(text) > 5000:  # Limit the length of the text to prevent errors\n",
        "        text = text[:5000]\n",
        "\n",
        "    try:\n",
        "        # Create a WordCloud object\n",
        "        wordcloud = WordCloud(width=800, height=400, background_color='white').generate(text)\n",
        "\n",
        "        # Convert the WordCloud to an image format that Gradio can display directly\n",
        "        image = wordcloud.to_image()\n",
        "        return image\n",
        "    except Exception as e:\n",
        "        print(f\"Error generating word cloud: {e}\")\n",
        "        return None\n",
        "\n",
        "# Step 4: Set up the Gradio interface\n",
        "interface = gr.Interface(fn=generate_wordcloud,\n",
        "                         inputs=\"text\",\n",
        "                         outputs=\"image\",\n",
        "                         title=\"Word Cloud Generator\",\n",
        "                         description=\"Enter some text to generate a word cloud of the most common words.\")\n",
        "\n",
        "# Step 5: Launch the app\n",
        "interface.launch()\n"
      ],
      "metadata": {
        "id": "Ph6V3UotEfUD"
      },
      "execution_count": null,
      "outputs": []
    }
  ]
}