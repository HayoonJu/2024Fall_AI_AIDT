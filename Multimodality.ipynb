{
  "nbformat": 4,
  "nbformat_minor": 0,
  "metadata": {
    "colab": {
      "provenance": [],
      "authorship_tag": "ABX9TyOMWPHwUDnMJEwqwbjQ3nVK",
      "include_colab_link": true
    },
    "kernelspec": {
      "name": "python3",
      "display_name": "Python 3"
    },
    "language_info": {
      "name": "python"
    }
  },
  "cells": [
    {
      "cell_type": "markdown",
      "metadata": {
        "id": "view-in-github",
        "colab_type": "text"
      },
      "source": [
        "<a href=\"https://colab.research.google.com/github/junkyuhufs/2024Fall_AI_AIDT/blob/main/Multimodality.ipynb\" target=\"_parent\"><img src=\"https://colab.research.google.com/assets/colab-badge.svg\" alt=\"Open In Colab\"/></a>"
      ]
    },
    {
      "cell_type": "markdown",
      "source": [
        "# 🌿📻💻 **Multimodality**"
      ],
      "metadata": {
        "id": "KNLM7DdOKpvp"
      }
    },
    {
      "cell_type": "markdown",
      "source": [
        "# **1. Text to Text**"
      ],
      "metadata": {
        "id": "NNfFJNafK0nO"
      }
    },
    {
      "cell_type": "code",
      "execution_count": null,
      "metadata": {
        "id": "e5ogpsNKKkK4"
      },
      "outputs": [],
      "source": [
        "#Translation from English to French (words): hello, world, professor, student\n",
        "\n",
        "# English to French dictionary for demonstration\n",
        "english_to_french = {\n",
        "    \"hello\": \"bonjour\",\n",
        "    \"world\": \"monde\",\n",
        "    \"teacher\": \"professeur\",\n",
        "    \"student\": \"étudiant\"\n",
        "}\n",
        "\n",
        "# Input text\n",
        "input_text = input()\n",
        "translated_text = english_to_french.get(input_text, \"Translation not found\")\n",
        "\n",
        "print(\"English:\", input_text)\n",
        "print(\"French:\", translated_text)\n"
      ]
    }
  ]
}